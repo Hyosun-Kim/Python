{
  "nbformat": 4,
  "nbformat_minor": 0,
  "metadata": {
    "colab": {
      "provenance": []
    },
    "kernelspec": {
      "name": "python3",
      "display_name": "Python 3"
    },
    "language_info": {
      "name": "python"
    }
  },
  "cells": [
    {
      "cell_type": "markdown",
      "source": [
        "<img src=\"https://drive.google.com/uc?export=view&id=1hiCNHNWliU96ZuVD0BnzFxdbaYzNPUtI\" width=\"1200\"/>\n",
        "\n",
        "-  Social Media and Contact\n",
        "  - My SNS: [instagram](https://www.instagram.com/ringo_data/?igsh=MTlrdW4xMzZvNTBtdw%3D%3D), [github](https://github.com/Hyosun-Kim)\n",
        "  - E-mail: hyosunkim00@gmail.com\n",
        "\n",
        "---\n",
        "Command + M A = Add a cell above (코드 셀 위에 삽입)  \n",
        "Command + M B = Add a cell below (코드 셀 아래 삽입)  \n",
        "Command + M D = Delete a cell (셀 지우기)  \n",
        "Command + M Y = Change cell to code (코드 셀로 변경)  \n",
        "Command + M M = Change cell to markdown (마크다운 셀로 변경)   \n",
        "Command + M Z = Undo (실행 취소)\n",
        "<!-- -->"
      ],
      "metadata": {
        "id": "yjafkN5tfppZ"
      }
    },
    {
      "cell_type": "markdown",
      "source": [
        "# For Loop\n",
        "- The 'for' loop primarily iterates over a sequence (such as a list, string, etc.), executing the code within the loop for each element\n",
        "- for 루프는 주로 시퀀스(리스트, 문자열 등 순회할 대상)를 순회하며, 각 원소에 대해 루프 내부의 코드를 실행\n",
        "```python\n",
        "for valuable in sequence:\n",
        "    # Code you want to write down\n",
        "```"
      ],
      "metadata": {
        "id": "UGAs5woogBnp"
      }
    },
    {
      "cell_type": "code",
      "source": [
        "# list : Lists are used to store multiple items in a single variable using [].\n",
        "# 리스트 : 순서가 있는 아이템들의 모음 [](대괄호)로 표현\n",
        "my_list = [1,2,3,4]"
      ],
      "metadata": {
        "id": "1tyzF7vw5u75"
      },
      "execution_count": null,
      "outputs": []
    },
    {
      "cell_type": "code",
      "source": [
        "# Start from 0 ( left ), Start from -1 ( right )\n",
        "#0에서 부터 시작( 왼쪽 ) , -1 부터 시작 ( 오른쪽 )\n"
      ],
      "metadata": {
        "id": "PhA0z-33oOy5"
      },
      "execution_count": null,
      "outputs": []
    },
    {
      "cell_type": "code",
      "source": [
        "seq = 0\n",
        "for i in [1, 10, 100, 1000] :\n",
        "  seq = seq +  1  # seq += 1 과 동일\n",
        "  print('---start---')\n",
        "  print(f'시쿼스: {seq}, 아이템: {i}')\n",
        "  print( '---end---' )\n",
        "  print('')\n",
        "# https://pythontutor.com/visualize.html#mode=edit >>>>>>> You can watch how the Loop operates"
      ],
      "metadata": {
        "id": "9GnO7kOviiFL"
      },
      "execution_count": null,
      "outputs": []
    },
    {
      "cell_type": "markdown",
      "source": [
        "# While Loop\n",
        "- With the while loop we can execute a set of statements as long as a condition is true.\n",
        "- 조건이 참(True)인 동안 반복적으로 코드 블록을 실행하는 데 사용\n",
        "```python\n",
        "while condition:\n",
        "    # code you want to write down\n",
        "```"
      ],
      "metadata": {
        "id": "vUiOdnVYgQ49"
      }
    },
    {
      "cell_type": "code",
      "source": [
        "i = 0\n",
        "j = 1\n",
        "while i < 5:\n",
        "  bool = i < 5\n",
        "  i = i + 1\n",
        "  j = j*10\n",
        "  print(f'i:{i}, Boolean: {bool}, j:{j}')\n",
        "print( f'boolean: {i < 5}'  )\n",
        "# https://pythontutor.com/visualize.html#mode=edit   코드 동작하는 순서"
      ],
      "metadata": {
        "id": "HSUUgASol5Wp"
      },
      "execution_count": null,
      "outputs": []
    },
    {
      "cell_type": "markdown",
      "source": [
        "# Exercise\n",
        "- Solve yourself"
      ],
      "metadata": {
        "id": "y1cWaKVJf0Ia"
      }
    },
    {
      "cell_type": "markdown",
      "source": [
        "- 1부터 10까지의 숫자 중에서, for 루프를 사용하여 모든 홀수의 합을 계산합니다.\n",
        "동일한 범위에서 while 루프를 사용하여 모든 짝수의 합을 계산합니다.\n",
        "```python\n",
        "# for 루프를 사용하여 홀수의 합 계산\n",
        "sum_odd_for = 0\n",
        "for i in ___:  # 1부터 10까지의 범위\n",
        "    if i % 2 ___ 0:  # 홀수인지 확인\n",
        "        sum_odd_for += i  #  sum_odd_for = sum_odd_for + i  와 같음\n",
        "# while 루프를 사용하여 짝수의 합 계산\n",
        "sum_even_while = ___  # 초기값 0으로 설정\n",
        "i = 1\n",
        "while i ___ 10:  # 10 이하일 동안 반복\n",
        "    if i % 2 ___ 0:  # 짝수인지 확인\n",
        "        sum_even_while ___ i  # 짝수일 경우 합산\n",
        "    i ___  # i 값을 증가\n",
        "```"
      ],
      "metadata": {
        "id": "qwr00vLdpXYr"
      }
    },
    {
      "cell_type": "code",
      "source": [
        "sum_odd_for = 0\n",
        "for i in [1, 2, 3, 4, 5, 6, 7, 8, 9, 10]:\n",
        "  if i % 2 != 0:\n",
        "    sum_odd_for += i"
      ],
      "metadata": {
        "id": "PuTu0012rktM"
      },
      "execution_count": null,
      "outputs": []
    },
    {
      "cell_type": "code",
      "source": [
        "sum_odd_for"
      ],
      "metadata": {
        "colab": {
          "base_uri": "https://localhost:8080/"
        },
        "id": "iqzG8Kp_MhBQ",
        "outputId": "10c3cfac-6afa-4772-b3da-cc3a7c5d32ca"
      },
      "execution_count": null,
      "outputs": [
        {
          "output_type": "execute_result",
          "data": {
            "text/plain": [
              "25"
            ]
          },
          "metadata": {},
          "execution_count": 19
        }
      ]
    },
    {
      "cell_type": "code",
      "source": [
        "sum_even_while = 0\n",
        "i = 1\n",
        "while i <= 10:\n",
        "  if i % 2 == 0:\n",
        "    sum_even_while += i\n",
        "  i += 1"
      ],
      "metadata": {
        "id": "AZhxSuAfKpy7"
      },
      "execution_count": null,
      "outputs": []
    },
    {
      "cell_type": "code",
      "source": [
        "sum_even_while"
      ],
      "metadata": {
        "id": "g_dk42xoMkeD",
        "outputId": "f60d1fb6-558b-4fc1-fb05-b46e4805b480",
        "colab": {
          "base_uri": "https://localhost:8080/"
        }
      },
      "execution_count": null,
      "outputs": [
        {
          "output_type": "execute_result",
          "data": {
            "text/plain": [
              "30"
            ]
          },
          "metadata": {},
          "execution_count": 22
        }
      ]
    },
    {
      "cell_type": "markdown",
      "source": [
        "---\n",
        "\n",
        "<img src=\"https://drive.google.com/uc?export=view&id=1hiCNHNWliU96ZuVD0BnzFxdbaYzNPUtI\" width=\"1200\"/>\n"
      ],
      "metadata": {
        "id": "fNFw_LSAf0Wm"
      }
    }
  ]
}