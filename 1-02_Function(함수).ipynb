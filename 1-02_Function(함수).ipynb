{
  "nbformat": 4,
  "nbformat_minor": 0,
  "metadata": {
    "colab": {
      "provenance": []
    },
    "kernelspec": {
      "name": "python3",
      "display_name": "Python 3"
    },
    "language_info": {
      "name": "python"
    }
  },
  "cells": [
    {
      "cell_type": "markdown",
      "source": [
        "<img src=\"https://drive.google.com/uc?export=view&id=1hiCNHNWliU96ZuVD0BnzFxdbaYzNPUtI\" width=\"1200\"/>\n",
        "\n",
        "-  Social Media and Contact\n",
        "  - My SNS: [instagram](https://www.instagram.com/ringo_data/?igsh=MTlrdW4xMzZvNTBtdw%3D%3D), [github](https://github.com/Hyosun-Kim)\n",
        "  - E-mail: hyosunkim00@gmail.com\n",
        "\n",
        "---"
      ],
      "metadata": {
        "id": "nC-FAjj-K3eY"
      }
    },
    {
      "cell_type": "markdown",
      "source": [
        "# The structure of a function\n",
        "\n",
        "\n",
        "-ENGLISH\n",
        "- Function: A set of code that performs a specific task and is reusable.\n",
        "\n",
        "- Parameter: Variables used to specify the input values of a function.\n",
        "\n",
        "-KOREAN\n",
        "- 함수 : 특정 작업을 수행하는 코드의 집합으로, 재사용 가능\n",
        "\n",
        "- 매개변수 : 함수의 입력값을 지정하기 위한 변수\n"
      ],
      "metadata": {
        "id": "VE62ATDzK_cz"
      }
    },
    {
      "cell_type": "code",
      "source": [
        "def name of the function(parameter01, parameter02, parameter03 ... parameterN)\n",
        "  \"\"\"\n",
        "  Option: explanation of the function's object, parameter and return\n",
        "  \"\"\"\n",
        "  # CODE of the logic of the function, computation and processing\n",
        "\n",
        "  return \"return value\" # The function returns a result. If there is no return value, the 'return' statement is omitted\n"
      ],
      "metadata": {
        "id": "DkTzOAynOmny"
      },
      "execution_count": null,
      "outputs": []
    },
    {
      "cell_type": "markdown",
      "source": [
        "$ 2x +3 = f(x)$\n",
        "\n",
        "| x | f(x)  |\n",
        "|---|-------|\n",
        "| 1 | 5     |\n",
        "| 2 | 7     |\n",
        "| 3 | 9     |\n",
        "| 4 | 11    |\n",
        "| 5 | 13    |\n",
        "\n"
      ],
      "metadata": {
        "id": "1yiondMCNCOH"
      }
    },
    {
      "cell_type": "code",
      "source": [
        "# Function definition\n",
        "def operation1(x):\n",
        "  '''\n",
        "  2x + 3 computating\n",
        "  x = int\n",
        "  '''\n",
        "  result = (3 * x) + 3\n",
        "  return result"
      ],
      "metadata": {
        "id": "jcVOqht_NOuC"
      },
      "execution_count": 1,
      "outputs": []
    },
    {
      "cell_type": "code",
      "source": [
        "# Function Explanation\n",
        "help(operation1)"
      ],
      "metadata": {
        "id": "ajqPo5JbRYCB",
        "colab": {
          "base_uri": "https://localhost:8080/"
        },
        "outputId": "d0842878-5fe6-4158-e72d-7fcd8430ca0c"
      },
      "execution_count": 2,
      "outputs": [
        {
          "output_type": "stream",
          "name": "stdout",
          "text": [
            "Help on function operation1 in module __main__:\n",
            "\n",
            "operation1(x)\n",
            "    2x + 3 computating\n",
            "    x = int\n",
            "\n"
          ]
        }
      ]
    },
    {
      "cell_type": "code",
      "source": [
        "print( operation1(1))"
      ],
      "metadata": {
        "id": "02vDzPDtP17b",
        "colab": {
          "base_uri": "https://localhost:8080/"
        },
        "outputId": "c2e67778-f5db-468f-b742-8190f3247bc5"
      },
      "execution_count": null,
      "outputs": [
        {
          "output_type": "stream",
          "name": "stdout",
          "text": [
            "6\n"
          ]
        }
      ]
    },
    {
      "cell_type": "markdown",
      "source": [
        "## Indent sensitivity\n",
        "- In Python, indentation(들여쓰기) is an important aspect of the syntax\n",
        "---\n",
        "- Correct syntax\n",
        "```python\n",
        "  def test1( a ) :\n",
        "    return a\n",
        "```\n",
        "---\n",
        "- Incorrect syntax\n",
        "```python\n",
        "  def test1( a ) :\n",
        "  return a\n",
        "```\n",
        "---"
      ],
      "metadata": {
        "id": "kiAo-fjra0W5"
      }
    },
    {
      "cell_type": "markdown",
      "source": [
        "# Exercise\n",
        "- GO GO\n"
      ],
      "metadata": {
        "id": "FW6wpelGWTPO"
      }
    },
    {
      "cell_type": "markdown",
      "source": [
        "1. 함수 만들기\n",
        "  - 함수 이름: greet\n",
        "  - 설명: 이름을 매개변수로 받아 \"Hello, [name]!\" 형식으로 인사말을 반환하는 함수를 작성하세요.\n",
        "  - 예시: `greet(\"Alice\")`는 \"Hello, Alice!\"를 반환해야 합니다."
      ],
      "metadata": {
        "id": "JidY3b6sWW6S"
      }
    },
    {
      "cell_type": "code",
      "source": [
        "def greet(name):\n",
        "  '''\n",
        "  f'Hello + {name}'\n",
        "  '''\n",
        "  result = f'Hello, {name}'\n",
        "  return result\n",
        "\n",
        "greet('Steve')"
      ],
      "metadata": {
        "id": "Tg2qYsoqWqDf",
        "colab": {
          "base_uri": "https://localhost:8080/",
          "height": 36
        },
        "outputId": "72aebe29-fe97-4b2d-a80f-e97e28778678"
      },
      "execution_count": null,
      "outputs": [
        {
          "output_type": "execute_result",
          "data": {
            "text/plain": [
              "'Hello, Steve'"
            ],
            "application/vnd.google.colaboratory.intrinsic+json": {
              "type": "string"
            }
          },
          "metadata": {},
          "execution_count": 19
        }
      ]
    },
    {
      "cell_type": "code",
      "source": [],
      "metadata": {
        "id": "HOJxDZEON-9-"
      },
      "execution_count": null,
      "outputs": []
    },
    {
      "cell_type": "markdown",
      "source": [
        "*내가 틀렸던거*\n",
        "- result 하고 = 붙이는거\n",
        "\n",
        "*Question*\n",
        "- \"\" 와 ''의 차이"
      ],
      "metadata": {
        "id": "s1-8LdGk-KQr"
      }
    },
    {
      "cell_type": "markdown",
      "source": [
        "---\n",
        "<img src=\"https://drive.google.com/uc?export=view&id=1hiCNHNWliU96ZuVD0BnzFxdbaYzNPUtI\" width=\"1200\"/>"
      ],
      "metadata": {
        "id": "KmJ6WposLAQ3"
      }
    }
  ]
}