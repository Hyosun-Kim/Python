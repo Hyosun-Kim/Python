{
  "nbformat": 4,
  "nbformat_minor": 0,
  "metadata": {
    "colab": {
      "provenance": [],
      "toc_visible": true
    },
    "kernelspec": {
      "name": "python3",
      "display_name": "Python 3"
    },
    "language_info": {
      "name": "python"
    }
  },
  "cells": [
    {
      "cell_type": "markdown",
      "source": [
        "<img src=\"https://drive.google.com/uc?export=view&id=1hiCNHNWliU96ZuVD0BnzFxdbaYzNPUtI\" width=\"1200\"/>\n",
        "\n",
        "-  Social Media and Contact\n",
        "  - My SNS: [instagram](https://www.instagram.com/ringo_data/?igsh=MTlrdW4xMzZvNTBtdw%3D%3D), [github](https://github.com/Hyosun-Kim)\n",
        "  - E-mail: hyosunkim00@gmail.com\n",
        "\n",
        "---\n",
        "Command + M A = Add a cell above (코드 셀 위에 삽입)  \n",
        "Command + M B = Add a cell below (코드 셀 아래 삽입)  \n",
        "Command + M D = Delete a cell (셀 지우기)  \n",
        "Command + M Y = Change cell to code (코드 셀로 변경)  \n",
        "Command + M M = Change cell to markdown (마크다운 셀로 변경)   \n",
        "Command + M Z = Undo (실행 취소)\n",
        "<!-- -->"
      ],
      "metadata": {
        "id": "RXDnERd7vj5c"
      }
    },
    {
      "cell_type": "markdown",
      "source": [
        "# Library(라이브러리)\n",
        "###ENGLISH\n",
        "- What is the Library ?\n",
        "   - A library is a collection of code that makes everyday tasks more efficient.\n",
        "   - Using Seaborn, for example, you can generate visualisations with just one line of code.\n",
        "   - We can use various functions with a Library.\n",
        "- In Google Colab has basic fundamental library.\n",
        "- If you wanna check the library list installed, Invoke `!pip list` .\n",
        "- If you want to find specific library, Use `!pip list | grep {Library}`.\n",
        "- You can use the library with the `import` statements.    \n",
        "\n",
        "###KOREAN\n",
        "- 라이브러리는 ?\n",
        "  - 특정 기능을 수행하는 코드의 모음\n",
        "  - 예시로 Seaborn을 사용하면 한 줄로 시각화를 할 수 있음\n",
        "  - 다양한 함수를 사용가능\n",
        "- Google Colab, 기본적인 라이브러리 설치돼 있음\n",
        "- 설치된 라이브러리 목록 확인하려면 `!pip list` 실행\n",
        "- 특정 라이브러리 찾으려면 `!pip list | grep {라이브러리}` 사용\n",
        "- 라이브러리 사용하려면 노트북에서 `import` 구문으로 불러와야 함"
      ],
      "metadata": {
        "id": "n6-xdDUDztsM"
      }
    },
    {
      "cell_type": "markdown",
      "source": [
        "## INSTALL(!pip install)"
      ],
      "metadata": {
        "id": "7UtJYtRRz7Xi"
      }
    },
    {
      "cell_type": "code",
      "source": [
        "!pip list # 설치된 라이브러리"
      ],
      "metadata": {
        "id": "OmnahY75LmHB"
      },
      "execution_count": null,
      "outputs": []
    },
    {
      "cell_type": "code",
      "source": [
        "!pip list | grep pandas # 설치된 특정 라이브러리"
      ],
      "metadata": {
        "id": "wPsMeUNXLo7m",
        "colab": {
          "base_uri": "https://localhost:8080/"
        },
        "outputId": "32ef150a-d1c3-4f76-b82f-42863a979527"
      },
      "execution_count": null,
      "outputs": [
        {
          "output_type": "stream",
          "name": "stdout",
          "text": [
            "geopandas                        0.13.2\n",
            "pandas                           1.5.3\n",
            "pandas-datareader                0.10.0\n",
            "pandas-gbq                       0.19.2\n",
            "pandas-stubs                     1.5.3.230304\n",
            "sklearn-pandas                   2.2.0\n"
          ]
        }
      ]
    },
    {
      "cell_type": "code",
      "source": [
        "!pip install pyforest # 설치"
      ],
      "metadata": {
        "id": "RS-r3_t6LhU8",
        "colab": {
          "base_uri": "https://localhost:8080/"
        },
        "outputId": "11e894a0-16ba-4c53-8aef-39c6d45b7cc1"
      },
      "execution_count": null,
      "outputs": [
        {
          "output_type": "stream",
          "name": "stdout",
          "text": [
            "Collecting pyforest\n",
            "  Downloading pyforest-1.1.0.tar.gz (15 kB)\n",
            "  Preparing metadata (setup.py) ... \u001b[?25l\u001b[?25hdone\n",
            "Building wheels for collected packages: pyforest\n",
            "  Building wheel for pyforest (setup.py) ... \u001b[?25l\u001b[?25hdone\n",
            "  Created wheel for pyforest: filename=pyforest-1.1.0-py2.py3-none-any.whl size=14606 sha256=30730ae1b43fc1ecaec8cfea68a476bdd97eb95814fcb0e9c61edca50cf80889\n",
            "  Stored in directory: /root/.cache/pip/wheels/9e/7d/2c/5d2f5e62de376c386fd3bf5a8e5bd119ace6a9f48f49df6017\n",
            "Successfully built pyforest\n",
            "Installing collected packages: pyforest\n",
            "Successfully installed pyforest-1.1.0\n"
          ]
        }
      ]
    },
    {
      "cell_type": "markdown",
      "source": [
        "## import(불러오기)"
      ],
      "metadata": {
        "id": "JtlyzIBR0Boi"
      }
    },
    {
      "cell_type": "markdown",
      "source": [
        "기본 import:\n"
      ],
      "metadata": {
        "id": "ca4w96U_Ln9-"
      }
    },
    {
      "cell_type": "markdown",
      "source": [
        "- After installing the Library, you should \"import\" then you can use it.    \n",
        "- 라이브러리를 설치했다고 해서 바로 쓸 수 있는 것이 아니라 improt를 해야지 쓸 수 있다.\n"
      ],
      "metadata": {
        "id": "rj3jDu6Ou04a"
      }
    },
    {
      "cell_type": "code",
      "source": [
        "# math.sqrt(16) # import 되어 있지 않음"
      ],
      "metadata": {
        "id": "Jui7qvkaM-GG"
      },
      "execution_count": null,
      "outputs": []
    },
    {
      "cell_type": "code",
      "source": [
        "import math"
      ],
      "metadata": {
        "id": "xYVXZ_eBMQX1"
      },
      "execution_count": null,
      "outputs": []
    },
    {
      "cell_type": "code",
      "source": [
        "print(math.sqrt(16))  # math 모듈의 sqrt 함수 사용"
      ],
      "metadata": {
        "id": "1G4irSUuOI9u",
        "colab": {
          "base_uri": "https://localhost:8080/"
        },
        "outputId": "7e16e717-8371-4b16-b78a-340674da2635"
      },
      "execution_count": null,
      "outputs": [
        {
          "output_type": "stream",
          "name": "stdout",
          "text": [
            "4.0\n"
          ]
        }
      ]
    },
    {
      "cell_type": "markdown",
      "source": [
        "- It is possible to print 4 (square root of 16) because we do \"import math\".   \n",
        "- 16의 스퀘어 루트인 4를 출력 가능\n",
        "impot math 를 해줬기 때문"
      ],
      "metadata": {
        "id": "J_BDEN4Uu9GS"
      }
    },
    {
      "cell_type": "markdown",
      "source": [
        "Name the improt with \"as\"\n",
        "```python\n",
        "import pandas as pd\n",
        "```\n",
        "\n"
      ],
      "metadata": {
        "id": "G7VV-LS7MSm_"
      }
    },
    {
      "cell_type": "code",
      "source": [
        "import math as m\n",
        "print(m.sqrt(16))  # 별칭 m을 사용하여 math 모듈의 sqrt 함수 호출"
      ],
      "metadata": {
        "id": "dAwB4TP6MTa1"
      },
      "execution_count": null,
      "outputs": []
    },
    {
      "cell_type": "markdown",
      "source": [
        "Improt specific function or class:\n",
        "\n"
      ],
      "metadata": {
        "id": "H700LNz6MUZ_"
      }
    },
    {
      "cell_type": "code",
      "source": [
        "from math import sqrt\n",
        "print(sqrt(16))  # 직접 sqrt 함수 호출"
      ],
      "metadata": {
        "id": "qPwVN55UMVSy"
      },
      "execution_count": null,
      "outputs": []
    },
    {
      "cell_type": "markdown",
      "source": [
        "# Exercise\n",
        "- Stop and solve yourself"
      ],
      "metadata": {
        "id": "rz4KqtSjvmDR"
      }
    },
    {
      "cell_type": "markdown",
      "source": [
        "1. pandas 모듈을 pd라는 별칭으로 import하고, 빈 DataFrame을 생성하세요.\n",
        "```python\n",
        "import pandas ___ ___\n",
        "empty_dataframe = ___.DataFrame()\n",
        "print(empty_dataframe)\n",
        "```\n",
        "output\n",
        "```md\n",
        "Empty DataFrame\n",
        "Columns: []\n",
        "Index: []\n",
        "```"
      ],
      "metadata": {
        "id": "4z5fUNj1TRPt"
      }
    },
    {
      "cell_type": "code",
      "source": [
        "import pandas as pd\n",
        "empty_dataframe = pd.DataFrame()\n",
        "print(empty_dataframe)"
      ],
      "metadata": {
        "id": "Xr0k5XCcTvDT",
        "colab": {
          "base_uri": "https://localhost:8080/"
        },
        "outputId": "2718ba6e-f5eb-4920-ea63-dadc7b27e1b7"
      },
      "execution_count": null,
      "outputs": [
        {
          "output_type": "stream",
          "name": "stdout",
          "text": [
            "Empty DataFrame\n",
            "Columns: []\n",
            "Index: []\n"
          ]
        }
      ]
    },
    {
      "cell_type": "markdown",
      "source": [
        "2. datetime 모듈에서 datetime 클래스만 import하고, 현재 날짜와 시간을 출력하세요.\n",
        "```python\n",
        "from datetime import ___\n",
        "current_datetime = datetime.now()\n",
        "print(current_datetime)\n",
        "```"
      ],
      "metadata": {
        "id": "L3_ziylgTvUY"
      }
    },
    {
      "cell_type": "code",
      "source": [
        "from datetime import datetime\n",
        "current_datetime = datetime.now()\n",
        "print(current_datetime)"
      ],
      "metadata": {
        "id": "Qvzqe7MNTzhx",
        "colab": {
          "base_uri": "https://localhost:8080/"
        },
        "outputId": "ee320387-1f41-4f44-f5ae-0f587cd6c009"
      },
      "execution_count": null,
      "outputs": [
        {
          "output_type": "stream",
          "name": "stdout",
          "text": [
            "2024-02-05 11:59:01.827619\n"
          ]
        }
      ]
    },
    {
      "cell_type": "markdown",
      "source": [
        "---\n",
        "<img src=\"https://drive.google.com/uc?export=view&id=1hiCNHNWliU96ZuVD0BnzFxdbaYzNPUtI\" width=\"1200\"/>"
      ],
      "metadata": {
        "id": "3v3vs5uevmG2"
      }
    }
  ]
}