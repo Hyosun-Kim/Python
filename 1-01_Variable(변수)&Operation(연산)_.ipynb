{
  "nbformat": 4,
  "nbformat_minor": 0,
  "metadata": {
    "colab": {
      "provenance": []
    },
    "kernelspec": {
      "name": "python3",
      "display_name": "Python 3"
    },
    "language_info": {
      "name": "python"
    }
  },
  "cells": [
    {
      "cell_type": "markdown",
      "source": [
        "<img src=\"https://drive.google.com/uc?export=view&id=1hiCNHNWliU96ZuVD0BnzFxdbaYzNPUtI\" width=\"1200\"/>\n",
        "\n",
        "-  Social Media and Contact\n",
        "  - My SNS: [instagram](https://www.instagram.com/ringo_data/?igsh=MTlrdW4xMzZvNTBtdw%3D%3D), [github](https://github.com/Hyosun-Kim)\n",
        "  - E-mail: hyosunkim00@gmail.com\n",
        "\n",
        "---"
      ],
      "metadata": {
        "id": "RjFJ_7N2Ldrt"
      }
    },
    {
      "cell_type": "markdown",
      "source": [
        "# Print(출력)"
      ],
      "metadata": {
        "id": "NPOMVZ_jLlX_"
      }
    },
    {
      "cell_type": "code",
      "source": [
        "print( \"Hello World\")"
      ],
      "metadata": {
        "id": "Pqtt0X8LLugV"
      },
      "execution_count": null,
      "outputs": []
    },
    {
      "cell_type": "code",
      "source": [
        "\"Hello World1\"\n",
        "\"Hello World2\" # colab은 자동으로 셀의 마지막 줄을 출력"
      ],
      "metadata": {
        "id": "x36LFkfVMJs7"
      },
      "execution_count": null,
      "outputs": []
    },
    {
      "cell_type": "code",
      "source": [
        "print(\"Hello World1\")\n",
        "print(\"Hello World2\")\n",
        "# 원하는 내용을 출력하기 위해서는 `print()`함수를 사용해야함"
      ],
      "metadata": {
        "id": "xwVjUbiMMSng"
      },
      "execution_count": null,
      "outputs": []
    },
    {
      "cell_type": "markdown",
      "source": [
        "# Variable(변수)\n",
        "*ENGLISH\n",
        "- In programming languages, a variable is a container that stores data values.\n",
        "- By using variables, code becomes more concise and easier to understand\n",
        "\n",
        "*KOREAN\n",
        "- 프로그래밍 언어에서 변수는 `데이터 값을 저장`하는 컨테이너\n",
        "- 변수를 사용함으로써 코드가 더 `간결`하고 이해하기 쉬워짐"
      ],
      "metadata": {
        "id": "nlKFhXaoBuUK"
      }
    },
    {
      "cell_type": "markdown",
      "source": [
        "## Variable의 지정"
      ],
      "metadata": {
        "id": "CK2TI_VMEHKi"
      }
    },
    {
      "cell_type": "code",
      "source": [
        "# How is a variable utilized in data analysis?\n",
        "import matplotlib.pyplot as plt\n",
        "\n",
        "# 'Matplotlib' is a package in Python used to visualize data as charts or plots\n",
        "# 'Matplotlib' provides various visualization capabilities beyond standardized charts or plots using a low-level API.\n",
        "df = [1,2,3,4,6,7,7,7,7,7,71,2,3,4,6,7,7,7,7,7,71,2,3,4,6,7,7,7,7,7,71,2,3,4,6,7,7,7,7,7,7]\n",
        "plt.plot(df)"
      ],
      "metadata": {
        "id": "3qvE6wouvRsB",
        "colab": {
          "base_uri": "https://localhost:8080/",
          "height": 448
        },
        "outputId": "b11f04be-650f-4aa3-9049-64a53c904c2b"
      },
      "execution_count": null,
      "outputs": [
        {
          "output_type": "execute_result",
          "data": {
            "text/plain": [
              "[<matplotlib.lines.Line2D at 0x7f45d031b430>]"
            ]
          },
          "metadata": {},
          "execution_count": 1
        },
        {
          "output_type": "display_data",
          "data": {
            "text/plain": [
              "<Figure size 640x480 with 1 Axes>"
            ],
            "image/png": "[encoded data removed]"
          },
          "metadata": {}
        }
      ]
    },
    {
      "cell_type": "code",
      "source": [
        "a = 5       # int: 정수(integer)"
      ],
      "metadata": {
        "id": "TF2FSIwMB-Hl"
      },
      "execution_count": null,
      "outputs": []
    },
    {
      "cell_type": "code",
      "source": [
        "print(type(a))"
      ],
      "metadata": {
        "id": "0BLGATd3ummj",
        "colab": {
          "base_uri": "https://localhost:8080/"
        },
        "outputId": "4fbb7234-9a39-400a-d0d7-29308f8abdf8"
      },
      "execution_count": null,
      "outputs": [
        {
          "output_type": "stream",
          "name": "stdout",
          "text": [
            "<class 'int'>\n"
          ]
        }
      ]
    },
    {
      "cell_type": "code",
      "source": [
        "c = 4.5     # float: 실수(float)"
      ],
      "metadata": {
        "id": "dVEwSPPmZFew"
      },
      "execution_count": null,
      "outputs": []
    },
    {
      "cell_type": "code",
      "source": [
        "print(type(c))"
      ],
      "metadata": {
        "id": "MfHveN6vu0JS",
        "colab": {
          "base_uri": "https://localhost:8080/"
        },
        "outputId": "ae0b2a2a-5bf5-4de6-c964-edef0914ed3d"
      },
      "execution_count": null,
      "outputs": [
        {
          "output_type": "stream",
          "name": "stdout",
          "text": [
            "<class 'float'>\n"
          ]
        }
      ]
    },
    {
      "cell_type": "markdown",
      "source": [
        "*ENGLISH\n",
        "- **Integer**: A number without a decimal point. It consumes less memory, performs faster, and is more precise. It is used to represent counts, indices, etc.\n",
        "\n",
        "- **Float**: A number with a decimal point. It can represent a wider range of numbers, but consumes more memory and may introduce small errors in calculations.\n",
        "\n",
        "- Since '**int**' can be used with less memory, it is recommended to distinguish between the two types.\n",
        "\n",
        "*KOREAN\n",
        "\n",
        "- **Integer**: 소수점이 없는 숫자. 메모리 사용이 적고 연산이 빠르며 정확합니다. 갯수나 인덱스 등을 표현할 때 사용됩니다.\n",
        "- **Float**: 소수점이 있는 숫자. 더 넓은 범위의 수를 표현할 수 있지만, 메모리를 더 많이 사용하고 연산에서 작은 오차가 발생할 수 있습니다.\n",
        "- **int** 가 더욱 적은 메모리로 사용할 수 있기 때문에 두 타입을 구분해서 쓰는 것"
      ],
      "metadata": {
        "id": "BfH3b8T7QGZe"
      }
    },
    {
      "cell_type": "markdown",
      "source": [
        "---"
      ],
      "metadata": {
        "id": "Cy35gkt07MLi"
      }
    },
    {
      "cell_type": "code",
      "source": [
        "b = \"Hello\" # str: 문자열(string)"
      ],
      "metadata": {
        "id": "oTolucyJZDlL"
      },
      "execution_count": null,
      "outputs": []
    },
    {
      "cell_type": "code",
      "source": [
        "print(type(b))"
      ],
      "metadata": {
        "id": "_puDlSHEunps",
        "colab": {
          "base_uri": "https://localhost:8080/"
        },
        "outputId": "f4b4032d-c42f-4a9b-e4d4-d22938f356f7"
      },
      "execution_count": null,
      "outputs": [
        {
          "output_type": "stream",
          "name": "stdout",
          "text": [
            "<class 'str'>\n"
          ]
        }
      ]
    },
    {
      "cell_type": "code",
      "source": [
        "# Python에서 따옴표로 둘러싸인 텍스트는 문자열(string)로 인식되고,\n",
        "# 따옴표가 없는 텍스트는 변수명 또는 다른 식별자(예: 함수명, 클래스명)로 인식"
      ],
      "metadata": {
        "id": "JG-5pCWb7QwC"
      },
      "execution_count": null,
      "outputs": []
    },
    {
      "cell_type": "markdown",
      "source": [
        "## Variable Reassignment"
      ],
      "metadata": {
        "id": "b_u6nb84ES-w"
      }
    },
    {
      "cell_type": "code",
      "source": [
        "print(a)"
      ],
      "metadata": {
        "id": "Y_EBNHLGFI9g",
        "colab": {
          "base_uri": "https://localhost:8080/"
        },
        "outputId": "85d8ecd0-0f37-4419-bb08-2a6a3b1ddb79"
      },
      "execution_count": null,
      "outputs": [
        {
          "output_type": "stream",
          "name": "stdout",
          "text": [
            "5\n"
          ]
        }
      ]
    },
    {
      "cell_type": "code",
      "source": [
        "a = \"Python\""
      ],
      "metadata": {
        "id": "jO7ATgYpE5Om"
      },
      "execution_count": null,
      "outputs": []
    },
    {
      "cell_type": "code",
      "source": [
        "print(a)    # 출력: Python type(a) = int -> type(a) = str"
      ],
      "metadata": {
        "id": "YHg6ue_ituHI",
        "colab": {
          "base_uri": "https://localhost:8080/"
        },
        "outputId": "16f19e0d-ca59-4a71-d0bc-87721210df6e"
      },
      "execution_count": null,
      "outputs": [
        {
          "output_type": "stream",
          "name": "stdout",
          "text": [
            "Python\n"
          ]
        }
      ]
    },
    {
      "cell_type": "code",
      "source": [
        "print(type(a))"
      ],
      "metadata": {
        "colab": {
          "base_uri": "https://localhost:8080/"
        },
        "id": "6-Z342fZ2Bgv",
        "outputId": "e6def2f9-03b5-4b07-caa0-80e0c1ffb3eb"
      },
      "execution_count": null,
      "outputs": [
        {
          "output_type": "stream",
          "name": "stdout",
          "text": [
            "<class 'str'>\n"
          ]
        }
      ]
    },
    {
      "cell_type": "markdown",
      "source": [
        "## Case Sensitivity\n",
        "- Python is case-sensitive\n",
        "- Python 은 대소문자를 구분함"
      ],
      "metadata": {
        "id": "CxwhcRHFKPHJ"
      }
    },
    {
      "cell_type": "code",
      "source": [
        "# Python is case-sensitive\n",
        "variable = 10\n",
        "Variable = 20\n",
        "\n",
        "# These two variables are different from each other.\n",
        "\n",
        "print(variable)  # 출력: 10\n",
        "print(Variable)  # 출력: 20"
      ],
      "metadata": {
        "id": "Ma41dYS5Kga_"
      },
      "execution_count": null,
      "outputs": []
    },
    {
      "cell_type": "markdown",
      "source": [
        "# Operation(연산)\n",
        "- +",
        "- -",
        "- *",
        "- /: `a//b -> a divided by b` ex. 5/2 = 2.5\n",
        "- //: `a//b -> a divided by b`(Return only the integer part, discarding the decimal part) ex. 5/2 = 2\n",
        "  \n",
        "- %: `a%b -> The remainder of dividing a by b`  \n",
        "  "
      ],
      "metadata": {
        "id": "HJffEOcbEXcd"
      }
    },
    {
      "cell_type": "code",
      "source": [
        "# 더하기 연산 (+)\n",
        "addition = 5 + 3"
      ],
      "metadata": {
        "id": "D_B7FK8yRNpf"
      },
      "execution_count": null,
      "outputs": []
    },
    {
      "cell_type": "code",
      "source": [
        "print( addition )"
      ],
      "metadata": {
        "id": "T-Li-cES2Ekl",
        "colab": {
          "base_uri": "https://localhost:8080/"
        },
        "outputId": "3f6fd3d1-bccb-406f-cc70-f2d270c85ca6"
      },
      "execution_count": null,
      "outputs": [
        {
          "output_type": "stream",
          "name": "stdout",
          "text": [
            "8\n"
          ]
        }
      ]
    },
    {
      "cell_type": "code",
      "source": [
        "# 빼기 연산 (-)\n",
        "subtraction = 5 - 3"
      ],
      "metadata": {
        "id": "OhOG3asl2D4G"
      },
      "execution_count": null,
      "outputs": []
    },
    {
      "cell_type": "code",
      "source": [
        "print( subtraction)"
      ],
      "metadata": {
        "id": "lvH-ZJOx2ImJ"
      },
      "execution_count": null,
      "outputs": []
    },
    {
      "cell_type": "code",
      "source": [
        "# 곱하기 연산 (*)\n",
        "multiplication = 5 * 3"
      ],
      "metadata": {
        "id": "ViFrUPX-2H7S"
      },
      "execution_count": null,
      "outputs": []
    },
    {
      "cell_type": "code",
      "source": [
        "print( multiplication)"
      ],
      "metadata": {
        "id": "_fztOFKE2ceU"
      },
      "execution_count": null,
      "outputs": []
    },
    {
      "cell_type": "code",
      "source": [
        "# 나누기 연산 (/)\n",
        "division = 5 / 3"
      ],
      "metadata": {
        "id": "R1Wsj9Yt2Wqi"
      },
      "execution_count": null,
      "outputs": []
    },
    {
      "cell_type": "code",
      "source": [
        "print( division)"
      ],
      "metadata": {
        "id": "txVywYuj2fl2"
      },
      "execution_count": null,
      "outputs": []
    },
    {
      "cell_type": "code",
      "source": [
        "# 나누기 연산 정수 (//)\n",
        "division2 = 5 // 3"
      ],
      "metadata": {
        "id": "WnN4fSe6IHGV"
      },
      "execution_count": null,
      "outputs": []
    },
    {
      "cell_type": "code",
      "source": [
        "print( division2)"
      ],
      "metadata": {
        "id": "s7ybFfy4IHGl"
      },
      "execution_count": null,
      "outputs": []
    },
    {
      "cell_type": "code",
      "source": [
        "# 나머지 연산 (%) 5를 3으로 나눈 나머지\n",
        "modulus = 5 % 3"
      ],
      "metadata": {
        "id": "foTuOCrO2ZBZ"
      },
      "execution_count": null,
      "outputs": []
    },
    {
      "cell_type": "code",
      "source": [
        "print( modulus)"
      ],
      "metadata": {
        "id": "2Liaz5rj2jog"
      },
      "execution_count": null,
      "outputs": []
    },
    {
      "cell_type": "markdown",
      "source": [
        "---"
      ],
      "metadata": {
        "id": "MdpyMpC66OhF"
      }
    },
    {
      "cell_type": "code",
      "source": [
        "# The order of operations\n",
        "# operation without parentheses\n",
        "result_without_parentheses = 10 + 5 * 2\n",
        "\n",
        "# operation with parentheses\n",
        "result_with_parentheses = (10 + 5) * 2\n",
        "\n",
        "print( result_without_parentheses, result_with_parentheses)"
      ],
      "metadata": {
        "id": "ElbLRqoyQSIL"
      },
      "execution_count": null,
      "outputs": []
    },
    {
      "cell_type": "markdown",
      "source": [
        "---"
      ],
      "metadata": {
        "id": "gwpJFo-gQRPo"
      }
    },
    {
      "cell_type": "code",
      "source": [
        "# String operation(concatenation):\n",
        "str1 = \"Hello\"\n",
        "str2 = \"World\""
      ],
      "metadata": {
        "id": "l7kE4ipj6P-U"
      },
      "execution_count": null,
      "outputs": []
    },
    {
      "cell_type": "code",
      "source": [
        "print(str1 + \" \" + str2)"
      ],
      "metadata": {
        "id": "J1NN28Xy8YE4",
        "colab": {
          "base_uri": "https://localhost:8080/"
        },
        "outputId": "00ca73ca-dbf6-4f20-bff7-58593017404d"
      },
      "execution_count": null,
      "outputs": [
        {
          "output_type": "stream",
          "name": "stdout",
          "text": [
            "Hello World\n"
          ]
        }
      ]
    },
    {
      "cell_type": "markdown",
      "source": [
        "# f-strings\n",
        "- You can easily include variables, expressions, function calls, etc., within a string\n",
        "- 변수, 표현식, 함수 호출 등을 문자열 내에 쉽게 포함"
      ],
      "metadata": {
        "id": "Wtw2klbo7raj"
      }
    },
    {
      "cell_type": "code",
      "source": [
        "name = \"Steve\"\n",
        "age = 25\n",
        "formatted_string = f\"My name is {name} I'm {age} years old.\""
      ],
      "metadata": {
        "id": "qH7HfQ9c8Flp"
      },
      "execution_count": null,
      "outputs": []
    },
    {
      "cell_type": "code",
      "source": [
        "print( formatted_string )"
      ],
      "metadata": {
        "id": "-un7d3m68e2N",
        "colab": {
          "base_uri": "https://localhost:8080/"
        },
        "outputId": "803aac89-2390-4692-e84b-d514b959f8a6"
      },
      "execution_count": null,
      "outputs": [
        {
          "output_type": "stream",
          "name": "stdout",
          "text": [
            "My name is Steve I'm 25 years old.\n"
          ]
        }
      ]
    },
    {
      "cell_type": "markdown",
      "source": [
        "# Exercise\n",
        "- Go Go"
      ],
      "metadata": {
        "id": "PJ-yaIlm8zoq"
      }
    },
    {
      "cell_type": "markdown",
      "source": [
        "---\n",
        "1. 다음의 코드를 활용하여 `Hello World`를 출력 하시오"
      ],
      "metadata": {
        "id": "21q5hPmt9ABk"
      }
    },
    {
      "cell_type": "code",
      "source": [
        "str1 = \"Hello\"\n",
        "str2 = \"World\"\n",
        "\n",
        "print(str1 + ' ' +str2)"
      ],
      "metadata": {
        "id": "i0wCRXxHEhpW",
        "colab": {
          "base_uri": "https://localhost:8080/"
        },
        "outputId": "551307e4-6131-4b95-e446-8ea44d454eb4"
      },
      "execution_count": null,
      "outputs": [
        {
          "output_type": "stream",
          "name": "stdout",
          "text": [
            "Hello World\n"
          ]
        }
      ]
    },
    {
      "cell_type": "markdown",
      "source": [
        "---\n",
        "2. 변수 x 와 y 를 활용하여 몫 과 나머지를 아래와 같이 출력하시오( 단, 출력에 f-string으로 직접 변수값을 입력 )\n",
        "  -  `5 나누기 3의 몫은 1이고 나머지는 2이다`"
      ],
      "metadata": {
        "id": "jCAX3olNFLFL"
      }
    },
    {
      "cell_type": "code",
      "source": [
        "x = 5\n",
        "y = 3\n",
        "\n",
        "quotient = x//y\n",
        "remainder = x%y\n",
        "\n",
        "print(f'{x} 나누기 {3}의 몫은 {quotient}이고 나머지는 {remainder}이다')\n"
      ],
      "metadata": {
        "id": "Ot--uG_XE6iu",
        "colab": {
          "base_uri": "https://localhost:8080/"
        },
        "outputId": "0998578f-5acf-4fd0-ad02-7d9538421485"
      },
      "execution_count": null,
      "outputs": [
        {
          "output_type": "stream",
          "name": "stdout",
          "text": [
            "5 나누기 3의 몫은 1이고 나머지는 2이다\n"
          ]
        }
      ]
    },
    {
      "cell_type": "markdown",
      "source": [
        "---\n",
        "\n",
        "<img src=\"https://drive.google.com/uc?export=view&id=1hiCNHNWliU96ZuVD0BnzFxdbaYzNPUtI\" width=\"1200\"/>"
      ],
      "metadata": {
        "id": "4h3_rJM95ulk"
      }
    }
  ]
}
