{
 "nbformat": 4,
 "nbformat_minor": 0,
 "metadata": {
  "colab": {
   "provenance": []
  },
  "kernelspec": {
   "name": "python3",
   "display_name": "Python 3"
  },
  "language_info": {
   "name": "python"
  }
 },
 "cells": [
  {
   "cell_type": "markdown",
   "source": [
    "<img src=\"https://drive.google.com/uc?export=view&id=1hiCNHNWliU96ZuVD0BnzFxdbaYzNPUtI\" width=\"1200\"/>\n",
    "\n",
    "-  Social Media and Contact\n",
    "  - My SNS: [instagram](https://www.instagram.com/ringo_data/?igsh=MTlrdW4xMzZvNTBtdw%3D%3D), [github](https://github.com/Hyosun-Kim)\n",
    "  - E-mail: hyosunkim00@gmail.com\n",
    "\n",
    "---"
   ],
   "metadata": {
    "id": "7W4cR9hWdciN"
   }
  },
  {
   "cell_type": "markdown",
   "source": [
    "# Boolean\n",
    "- A data type that represents only true (True) and false (False) values\n",
    "  - Relational operator(비교 연산자)\n",
    "    - == (Equal to): 두 값이 `같은지` 비교합니다. 같으면 참(True)을 반환합니다.\n",
    "    - != (Not equal to): 두 값이 `다른지` 비교합니다. 다르면 참을 반환합니다.\n",
    "    - \\> (Greater than): 왼쪽 값이 오른쪽 값보다 `큰지` 비교합니다. 크면 참을 반환합니다.\n",
    "    - \\< (Less than): 왼쪽 값이 오른쪽 값보다 `작은지` 비교합니다. 작으면 참을 반환합니다.\n",
    "    - \\>= (Greater than or equal to): 왼쪽 값이 오른쪽 값보다 `크거나 같은지` 비교합니다. 크거나 같으면 참을 반환합니다.\n",
    "    - \\<= (Less than or equal to): 왼쪽 값이 오른쪽 값보다 `작거나 같은지` 비교합니다. 작거나 같으면 참을 반환합니다.\n",
    "\n",

    " | ```#Warning\n",
    " |   True\n",
    " |   False\n",
    " |   ---\n",
    " |   true <- x\n",
    " |   false <- x\n",
    "  ```"
   ],
   "metadata": {
    "id": "sJcX-QF7htUT"
   }
  },
  {
   "cell_type": "code",
   "source": [
    "equal = 1 == 1"
   ],
   "metadata": {
    "id": "zwJXwrsNdXup"
   },
   "execution_count": null,
   "outputs": []
  },
  {
   "cell_type": "markdown",
   "source": [
    "# Difference btw \"==\" and \"=\"\n",
    "\n",
    "= assigns variable\n",
    "== means \"Equals\""
   ],
   "metadata": {
    "id": "E9PFAmZQ-7wD"
   }
  },
  {
   "cell_type": "code",
   "source": [
    "print( equal )"
   ],
   "metadata": {
    "id": "U5N_iYd0diuX",
    "colab": {
     "base_uri": "https://localhost:8080/"
    },
    "outputId": "d674c6b7-802a-4f43-9495-5085342e5b59"
   },
   "execution_count": null,
   "outputs": [
    {
     "output_type": "stream",
     "name": "stdout",
     "text": [
      "True\n"
     ]
    }
   ]
  },
  {
   "cell_type": "code",
   "source": [
    "not_equal = 1 == 2"
   ],
   "metadata": {
    "id": "T-xt-YUwIdA1"
   },
   "execution_count": 3,
   "outputs": []
  },
  {
   "cell_type": "code",
   "source": [
    "print( not_equal)"
   ],
   "metadata": {
    "id": "wqh8lCzHIdla",
    "colab": {
     "base_uri": "https://localhost:8080/"
    },
    "outputId": "483dc550-ab2b-4204-f0f5-3d786c1d3dd6"
   },
   "execution_count": 4,
   "outputs": [
    {
     "name": "stdout",
     "output_type": "stream",
     "text": [
      "False\n"
     ]
    }
   ]
  },
  {
   "cell_type": "markdown",
   "source": [],
   "metadata": {
    "collapsed": false
   }
  },
  {
   "cell_type": "markdown",
   "source": [
    "# IF(조건문)\n",
    "- if statements in programming mean a structure that states, \"If this condition is true, execute this code.\"\n",
    "```python\n",
    "  if condition:\n",
    "    # code to be executed when condition is Ture\n",
    "  else:\n",
    "    # code code to be executed when condition is False\n",
    "```\n"
   ],
   "metadata": {
    "id": "o7GxXjaeZBUl"
   }
  },
  {
   "cell_type": "code",
   "source": [
    "if True  : # 1>2 | 1<2 | True | False | true | false\n",
    "  print('right')\n",
    "else:\n",
    "  print('wrong')"
   ],
   "metadata": {
    "id": "grcCnp47diyG"
   },
   "execution_count": 5,
   "outputs": [
    {
     "name": "stdout",
     "output_type": "stream",
     "text": [
      "맞다\n"
     ]
    }
   ]
  },
  {
   "cell_type": "markdown",
   "source": [
    "## elif\n",
    "\n",
    "  ```python\n",
    "  if con1:\n",
    "      # code to be executed when con1 is True.\n",
    "  elif con2:\n",
    "      # code to be executed when con1 is False and con2 is True.\n",
    "  else:\n",
    "      # code to be executed when all conditions are False.\n",
    "  ```"
   ],
   "metadata": {
    "id": "U55n2JAaMWmN"
   }
  },
  {
   "cell_type": "code",
   "source": [
    "if False :  #con1\n",
    "  print(\"con1 is True\")\n",
    "elif False : # con2\n",
    "  print(\"con1 is False, con2 is True\")\n",
    "else:\n",
    "  print( \"Conditions are False\")"
   ],
   "metadata": {
    "id": "sbVU0GwPdf3I"
   },
   "execution_count": 8,
   "outputs": [
    {
     "name": "stdout",
     "output_type": "stream",
     "text": [
      "Conditions are False\n"
     ]
    }
   ]
  },
  {
   "cell_type": "markdown",
   "source": [
    "# Exercise\n",
    "- 일시정지 후 스스로 문제를 풀어보고 강의를 수강해 주세요"
   ],
   "metadata": {
    "id": "5UVYi5AwNlDk"
   }
  },
  {
   "cell_type": "markdown",
   "source": [
    "1. 문제: Python 함수 compare를 작성하세요. 이 함수는 두 개의 매개변수 a와 b를 받아, 다음 조건에 따라 결과를 반환해야 합니다:\n",
    "\n",
    "  - 만약 a가 b보다 크다면, \"a가 더 크다.\"를 반환합니다.\n",
    "  - 만약 b가 a보다 크다면, \"b가 더 크다.\"를 반환합니다.\n",
    "  - 만약 a와 b가 같다면, \"a와 b는 같다.\"를 반환합니다.\n",
    "  ```python\n",
    "  def ___:\n",
    "      if ___\n",
    "        output = ___\n",
    "      elif ___\n",
    "        output = ___\n",
    "      else:\n",
    "        output = ___\n",
    "      return ___\n",
    "  # 함수 테스트\n",
    "  # 예시 값으로 테스트\n",
    "  ```"
   ],
   "metadata": {
    "id": "9AseyK5VNnVp"
   }
  },
  {
   "cell_type": "code",
   "source": [
    "def compare(a, b):\n",
    "  if a>b :\n",
    "    print(\"a가 더 크다\")\n",
    "  elif a<b :\n",
    "    print(\"b가 더 크다\")\n",
    "  else :\n",
    "    print(\"a와 b는 같다\")\n",
    "\n",
    "  return print\n",
    "\n",
    "  #print는 헷갈리니까 output이라고 써도됨\n",
    "\n",
    "  def compare(a, b):\n",
    "    if a>b :\n",
    "      output = \"a가 더 크다\"\n",
    "    elif a<b :\n",
    "      output = \"b가 더 크다\"\n",
    "    else :\n",
    "      output = \"a와 b는 같다\"\n",
    "\n",
    "    return output\n",
    "\n",
    "  #print는 헷갈리니까 output이라고 써도됨"
   ],
   "metadata": {
    "id": "GKW4paBpU5cV"
   },
   "execution_count": 9,
   "outputs": []
  },
  {
   "cell_type": "code",
   "source": [
    "compare(1,1)"
   ],
   "metadata": {
    "colab": {
     "base_uri": "https://localhost:8080/",
     "height": 36
    },
    "id": "ObiVMgN6CHpY",
    "outputId": "cc59fc47-dcc3-4a3a-c0dc-4f53275793d8"
   },
   "execution_count": 10,
   "outputs": [
    {
     "name": "stdout",
     "output_type": "stream",
     "text": [
      "a와 b는 같다\n"
     ]
    },
    {
     "data": {
      "text/plain": "<function print>"
     },
     "execution_count": 10,
     "metadata": {},
     "output_type": "execute_result"
    }
   ]
  },
  {
   "cell_type": "markdown",
   "source": [
    "---\n",
    "<img src=\"https://drive.google.com/uc?export=view&id=1hiCNHNWliU96ZuVD0BnzFxdbaYzNPUtI\" width=\"1200\"/>"
   ],
   "metadata": {
    "id": "J1CEp4ytdf9F"
   }
  },
  {
   "cell_type": "code",
   "execution_count": null,
   "outputs": [],
   "source": [],
   "metadata": {
    "collapsed": false
   }
  }
 ]
}
